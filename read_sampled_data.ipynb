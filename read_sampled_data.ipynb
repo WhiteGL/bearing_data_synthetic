{
 "cells": [
  {
   "cell_type": "code",
   "execution_count": 27,
   "metadata": {},
   "outputs": [],
   "source": [
    "import datetime\n",
    "import yaml\n",
    "import numpy as np\n",
    "import pandas as pd\n",
    "import matplotlib\n",
    "import matplotlib.pyplot as plt\n",
    "from metrics import numerical_metrics\n",
    "%matplotlib inline"
   ]
  },
  {
   "cell_type": "code",
   "execution_count": 28,
   "metadata": {},
   "outputs": [],
   "source": [
    "filename = 'test_CNN_dis_LSTM_gen20_34.npy'\n",
    "filename_true = './data/Norm1.csv'\n",
    "window = 400"
   ]
  },
  {
   "cell_type": "code",
   "execution_count": 29,
   "metadata": {},
   "outputs": [],
   "source": [
    "Y = pd.read_csv(filename_true)\n",
    "y = np.array(Y['DE'])\n",
    "data_true = np.zeros((608, 400))\n",
    "for i in range(608):\n",
    "    data_true[i] = y[i*400:(i+1)*400]"
   ]
  },
  {
   "cell_type": "code",
   "execution_count": 30,
   "metadata": {},
   "outputs": [
    {
     "data": {
      "text/plain": [
       "array([[ 0.05319692,  0.08866154,  0.09971815, ...,  0.00521538,\n",
       "        -0.04380923, -0.06133292],\n",
       "       [-0.03692492,  0.00458954,  0.01460308, ..., -0.05611754,\n",
       "        -0.05903815, -0.04255754],\n",
       "       [-0.00375508,  0.02044431,  0.03316985, ...,  0.06905169,\n",
       "         0.04380923,  0.06028985],\n",
       "       ...,\n",
       "       [-0.024408  , -0.00146031,  0.00458954, ...,  0.07739631,\n",
       "         0.12454338,  0.15959077],\n",
       "       [ 0.16856123,  0.14352738,  0.07301538, ..., -0.12725538,\n",
       "        -0.13768615, -0.105768  ],\n",
       "       [-0.04756431, -0.00876185,  0.02920615, ...,  0.04088862,\n",
       "         0.08970462,  0.10222154]])"
      ]
     },
     "execution_count": 30,
     "metadata": {},
     "output_type": "execute_result"
    }
   ],
   "source": [
    "data_true"
   ]
  },
  {
   "cell_type": "code",
   "execution_count": 31,
   "metadata": {},
   "outputs": [],
   "source": [
    "X = np.load(filename, mmap_mode='r')"
   ]
  },
  {
   "cell_type": "code",
   "execution_count": 32,
   "metadata": {},
   "outputs": [
    {
     "data": {
      "text/plain": [
       "(608, 400, 1)"
      ]
     },
     "execution_count": 32,
     "metadata": {},
     "output_type": "execute_result"
    }
   ],
   "source": [
    "X.shape"
   ]
  },
  {
   "cell_type": "code",
   "execution_count": 33,
   "metadata": {},
   "outputs": [],
   "source": [
    "data = np.array(X.reshape((608,400)))"
   ]
  },
  {
   "cell_type": "code",
   "execution_count": 34,
   "metadata": {},
   "outputs": [
    {
     "data": {
      "text/plain": [
       "array([[-0.00892344, -0.01656558,  0.01181832, ..., -0.0206605 ,\n",
       "        -0.03580822,  0.00122136],\n",
       "       [-0.01173794,  0.00670007,  0.01457612, ..., -0.00776649,\n",
       "         0.01549187,  0.00874177],\n",
       "       [-0.0030337 , -0.00718705, -0.01720123, ..., -0.03230252,\n",
       "        -0.01258898, -0.01715747],\n",
       "       ...,\n",
       "       [ 0.01057182, -0.00149164, -0.02092026, ..., -0.01505394,\n",
       "         0.0045301 ,  0.0233257 ],\n",
       "       [-0.01042081, -0.01189598, -0.00135793, ..., -0.0063125 ,\n",
       "         0.00553022, -0.00022376],\n",
       "       [-0.00428028,  0.0091535 , -0.01463068, ..., -0.0231955 ,\n",
       "         0.00436647,  0.00676656]], dtype=float32)"
      ]
     },
     "execution_count": 34,
     "metadata": {},
     "output_type": "execute_result"
    }
   ],
   "source": [
    "data"
   ]
  },
  {
   "cell_type": "code",
   "execution_count": 10,
   "metadata": {},
   "outputs": [
    {
     "ename": "AttributeError",
     "evalue": "'memmap' object has no attribute 'plot'",
     "output_type": "error",
     "traceback": [
      "\u001b[1;31m---------------------------------------------------------------------------\u001b[0m",
      "\u001b[1;31mAttributeError\u001b[0m                            Traceback (most recent call last)",
      "\u001b[1;32m<ipython-input-10-c9ea5f8023d8>\u001b[0m in \u001b[0;36m<module>\u001b[1;34m()\u001b[0m\n\u001b[1;32m----> 1\u001b[1;33m \u001b[0mp\u001b[0m \u001b[1;33m=\u001b[0m \u001b[0mdata\u001b[0m\u001b[1;33m[\u001b[0m\u001b[1;36m0\u001b[0m\u001b[1;33m]\u001b[0m\u001b[1;33m.\u001b[0m\u001b[0mplot\u001b[0m\u001b[1;33m.\u001b[0m\u001b[0mline\u001b[0m\u001b[1;33m(\u001b[0m\u001b[1;33m)\u001b[0m\u001b[1;33m\u001b[0m\u001b[0m\n\u001b[0m",
      "\u001b[1;31mAttributeError\u001b[0m: 'memmap' object has no attribute 'plot'"
     ]
    }
   ],
   "source": [
    "p = data[0].plot.line()"
   ]
  },
  {
   "cell_type": "code",
   "execution_count": 12,
   "metadata": {},
   "outputs": [],
   "source": [
    "measures = numerical_metrics.evaluate_all(data_true, data)"
   ]
  },
  {
   "cell_type": "code",
   "execution_count": 13,
   "metadata": {},
   "outputs": [
    {
     "data": {
      "text/plain": [
       "{'mse': 0.005794470187896989,\n",
       " 'rrse': 1.047273104371845,\n",
       " 'std_ape': 104811130.7715869,\n",
       " 'gmae': array([0.03848829, 0.04005277, 0.04070477, 0.04009847, 0.03842421,\n",
       "        0.03787098, 0.03546249, 0.03814318, 0.04024321, 0.03795343,\n",
       "        0.04014034, 0.03915179, 0.03684628, 0.03633884, 0.03722658,\n",
       "        0.03798184, 0.03914315, 0.0385133 , 0.03847828, 0.03825947,\n",
       "        0.03533223, 0.03785991, 0.03888131, 0.03600376, 0.0371931 ,\n",
       "        0.03598583, 0.03645593, 0.03572734, 0.03580721, 0.03957863,\n",
       "        0.03830799, 0.03586035, 0.03514849, 0.0354655 , 0.03726257,\n",
       "        0.0368404 , 0.03433077, 0.03753321, 0.03600807, 0.03626291,\n",
       "        0.03683101, 0.03677803, 0.03810869, 0.03750692, 0.03798887,\n",
       "        0.03887165, 0.03895764, 0.03511652, 0.03728692, 0.03691391,\n",
       "        0.03996464, 0.03680376, 0.03525027, 0.03581382, 0.03599384,\n",
       "        0.03660604, 0.03580666, 0.03613788, 0.0338823 , 0.03476525,\n",
       "        0.03805257, 0.03625536, 0.03754938, 0.03660018, 0.03592861,\n",
       "        0.03974393, 0.03833625, 0.04037307, 0.0404645 , 0.038673  ,\n",
       "        0.03868038, 0.03969064, 0.03916274, 0.03820626, 0.03905568,\n",
       "        0.0373497 , 0.03769884, 0.04072203, 0.04025064, 0.04076561,\n",
       "        0.04080014, 0.03765227, 0.03864623, 0.04051094, 0.04085053,\n",
       "        0.04013562, 0.04174067, 0.0405513 , 0.0434823 , 0.04273343,\n",
       "        0.04003034, 0.04215344, 0.0412198 , 0.04275522, 0.04077809,\n",
       "        0.04294048, 0.04105529, 0.04201885, 0.04246752, 0.04290034,\n",
       "        0.04320863, 0.04042497, 0.0408626 , 0.04143061, 0.04139715,\n",
       "        0.04225073, 0.04487622, 0.04289197, 0.04285888, 0.04233663,\n",
       "        0.04324241, 0.04095212, 0.04303829, 0.04034425, 0.04310582,\n",
       "        0.04010653, 0.04129591, 0.04289682, 0.03926529, 0.03995115,\n",
       "        0.04034577, 0.03804371, 0.03979509, 0.04346787, 0.04051122,\n",
       "        0.04412267, 0.04126505, 0.04049156, 0.03647797, 0.03691873,\n",
       "        0.03819805, 0.04108205, 0.04038586, 0.04231954, 0.03871927,\n",
       "        0.04022413, 0.03858747, 0.03928854, 0.03967756, 0.03840978,\n",
       "        0.03824643, 0.03961293, 0.04162794, 0.03898488, 0.03705055,\n",
       "        0.03711829, 0.0383642 , 0.03967006, 0.04163287, 0.04019837,\n",
       "        0.0405919 , 0.03793154, 0.0401198 , 0.04188739, 0.03948773,\n",
       "        0.03895476, 0.03749938, 0.03855044, 0.04043922, 0.03775223,\n",
       "        0.04017291, 0.04062447, 0.03933248, 0.03763285, 0.04079497,\n",
       "        0.03932424, 0.03937297, 0.03951553, 0.03967781, 0.03966728,\n",
       "        0.04088824, 0.03896497, 0.04029247, 0.03806219, 0.04009431,\n",
       "        0.0420868 , 0.04320538, 0.04170611, 0.03959828, 0.03916241,\n",
       "        0.04264973, 0.04126209, 0.04359166, 0.04212173, 0.03981162,\n",
       "        0.03971618, 0.04309025, 0.04190511, 0.04004297, 0.04242643,\n",
       "        0.0424803 , 0.04178952, 0.04207576, 0.04250775, 0.0405091 ,\n",
       "        0.04005182, 0.04113137, 0.04007331, 0.04237739, 0.04281672,\n",
       "        0.04265379, 0.04284114, 0.04139125, 0.04230211, 0.04654371,\n",
       "        0.04315026, 0.04587476, 0.0454836 , 0.03979184, 0.0413622 ,\n",
       "        0.04219215, 0.0429387 , 0.04644997, 0.04310084, 0.04017931,\n",
       "        0.04433586, 0.0462573 , 0.0455104 , 0.04456552, 0.04543073,\n",
       "        0.04454736, 0.0455021 , 0.04847466, 0.04560015, 0.04591384,\n",
       "        0.04717646, 0.04635554, 0.04626463, 0.0457149 , 0.04831252,\n",
       "        0.04667734, 0.04739375, 0.04633375, 0.04662543, 0.05021462,\n",
       "        0.04951707, 0.04837114, 0.04833913, 0.04576358, 0.04524212,\n",
       "        0.04630606, 0.0488249 , 0.0449355 , 0.04598866, 0.04580823,\n",
       "        0.04497217, 0.04595082, 0.04682475, 0.04721087, 0.04345275,\n",
       "        0.04689871, 0.04864801, 0.04871236, 0.04625281, 0.04450657,\n",
       "        0.04663861, 0.04570238, 0.04543354, 0.04420683, 0.04446897,\n",
       "        0.04496395, 0.0441049 , 0.04576477, 0.04363049, 0.04525418,\n",
       "        0.04293683, 0.04430175, 0.04393418, 0.04465557, 0.04630019,\n",
       "        0.04430239, 0.04550818, 0.04522985, 0.04280793, 0.04424012,\n",
       "        0.04042774, 0.04362955, 0.04499927, 0.04616298, 0.04448459,\n",
       "        0.04417909, 0.04569448, 0.04463862, 0.04644833, 0.04540634,\n",
       "        0.04537606, 0.04135648, 0.04370144, 0.04443349, 0.04367783,\n",
       "        0.04216328, 0.04244116, 0.04269788, 0.0412804 , 0.04103209,\n",
       "        0.04352197, 0.04382256, 0.04317136, 0.0414575 , 0.04185627,\n",
       "        0.04408721, 0.04180319, 0.03895209, 0.03988566, 0.03924816,\n",
       "        0.0423314 , 0.04340404, 0.04265868, 0.04359914, 0.04287929,\n",
       "        0.040798  , 0.03991461, 0.0401592 , 0.03680368, 0.04097489,\n",
       "        0.04122877, 0.04097636, 0.04064602, 0.04063132, 0.04231499,\n",
       "        0.03999348, 0.03975021, 0.03934928, 0.04432798, 0.04086198,\n",
       "        0.04071746, 0.04225943, 0.04272743, 0.04139738, 0.0409244 ,\n",
       "        0.04341452, 0.04243569, 0.04096765, 0.0413228 , 0.03819277,\n",
       "        0.03956236, 0.03932964, 0.04118381, 0.04047896, 0.04399314,\n",
       "        0.04086622, 0.04343915, 0.04200047, 0.04016183, 0.04192486,\n",
       "        0.04143434, 0.0405438 , 0.0396338 , 0.0406617 , 0.04488571,\n",
       "        0.04200902, 0.04319994, 0.04285717, 0.03951583, 0.04137539,\n",
       "        0.04480035, 0.04264393, 0.04385252, 0.04367962, 0.04401189,\n",
       "        0.0447801 , 0.04227106, 0.03875636, 0.0397406 , 0.03891027,\n",
       "        0.04267172, 0.0425524 , 0.04159426, 0.0437737 , 0.041907  ,\n",
       "        0.04073724, 0.0421557 , 0.04132424, 0.04205468, 0.03991398,\n",
       "        0.03708693, 0.04105159, 0.03817623, 0.04043572, 0.03941531,\n",
       "        0.03843386, 0.03760562, 0.04122538, 0.04281108, 0.03930122,\n",
       "        0.03879663, 0.03902796, 0.03928572, 0.04126176, 0.03793633,\n",
       "        0.03748854, 0.03764321, 0.03956029, 0.04007409, 0.03882433,\n",
       "        0.04004169, 0.04073271, 0.03774453, 0.03525623, 0.03831927]),\n",
       " 'inrse': 1.047273104371845,\n",
       " 'mdrae': 0.6045250005734543,\n",
       " 'mpe': 43686.21100689041,\n",
       " 'mbrae': 0.39564617545623326,\n",
       " 'mre': 115587.0956348288,\n",
       " 'mda': 0.4996869851729819,\n",
       " 'smdape': 1.9999999804033064,\n",
       " 'nrmse': 0.12731639924980917,\n",
       " 'mape': 147651.34028551794,\n",
       " 'mdae': 0.052559499005904564,\n",
       " 'rmdspe': 1.0313479702454775,\n",
       " 'rae': 1.045087373521865,\n",
       " 'umbrae': 0.6546598356598651,\n",
       " 'rmse': 0.07612141740599021,\n",
       " 'gmrae': array([0.59551875, 0.64015058, 0.62050379, 0.62970342, 0.6230107 ,\n",
       "        0.66583805, 0.63446471, 0.60096419, 0.65281691, 0.58219322,\n",
       "        0.60990625, 0.63743848, 0.59691658, 0.59073706, 0.63927241,\n",
       "        0.64254868, 0.59408046, 0.59871297, 0.60622734, 0.59102806,\n",
       "        0.60992434, 0.63698099, 0.62807069, 0.54403576, 0.5937165 ,\n",
       "        0.57999313, 0.60276595, 0.60781938, 0.57135926, 0.63383083,\n",
       "        0.60432198, 0.55977006, 0.58142698, 0.63448747, 0.56671194,\n",
       "        0.60801586, 0.5580515 , 0.62689342, 0.58718526, 0.58172791,\n",
       "        0.59018194, 0.58014435, 0.61599153, 0.63779003, 0.62120709,\n",
       "        0.60844501, 0.61491611, 0.57715562, 0.58439297, 0.56406535,\n",
       "        0.6440015 , 0.59871827, 0.58806347, 0.55804939, 0.61174639,\n",
       "        0.59113538, 0.58239418, 0.57772922, 0.53735753, 0.58029288,\n",
       "        0.61186088, 0.60443274, 0.60620925, 0.57398692, 0.58818044,\n",
       "        0.63380198, 0.59047824, 0.62402942, 0.58104692, 0.62999981,\n",
       "        0.68146186, 0.72996403, 0.64955368, 0.60231126, 0.62487336,\n",
       "        0.58848168, 0.58709152, 0.64579095, 0.66745888, 0.65653037,\n",
       "        0.63491727, 0.61919271, 0.67585629, 0.66244   , 0.68132647,\n",
       "        0.68567431, 0.6589273 , 0.63998464, 0.74494068, 0.6705535 ,\n",
       "        0.60496577, 0.7096626 , 0.64268315, 0.70628144, 0.64503545,\n",
       "        0.67973707, 0.59415663, 0.60588975, 0.58931119, 0.66801362,\n",
       "        0.6516787 , 0.67730891, 0.64323005, 0.69709514, 0.64969734,\n",
       "        0.63353683, 0.67653815, 0.62372346, 0.61527039, 0.65844775,\n",
       "        0.66944913, 0.58788977, 0.63719829, 0.59032178, 0.61809306,\n",
       "        0.55649978, 0.6122577 , 0.64530969, 0.61311551, 0.6686648 ,\n",
       "        0.60264401, 0.60710804, 0.57137925, 0.66488546, 0.59399479,\n",
       "        0.69263271, 0.60929091, 0.65756844, 0.55377754, 0.59392007,\n",
       "        0.59466506, 0.61554668, 0.60004502, 0.64460681, 0.5909231 ,\n",
       "        0.63132862, 0.58801035, 0.57746896, 0.58146729, 0.55875686,\n",
       "        0.54398263, 0.60825539, 0.63793444, 0.62979262, 0.59029877,\n",
       "        0.55499754, 0.56909995, 0.60952021, 0.60803852, 0.58267811,\n",
       "        0.59255523, 0.53786665, 0.59652845, 0.60363779, 0.61063766,\n",
       "        0.56251473, 0.54100295, 0.54751818, 0.55596353, 0.5526819 ,\n",
       "        0.62373427, 0.59752875, 0.58008478, 0.56549022, 0.5881399 ,\n",
       "        0.57178227, 0.57034471, 0.63091087, 0.58899805, 0.56913633,\n",
       "        0.64576967, 0.58132586, 0.58645652, 0.58833705, 0.59761187,\n",
       "        0.56438187, 0.58598122, 0.56972717, 0.5915492 , 0.57104379,\n",
       "        0.61492784, 0.59514511, 0.62137755, 0.57111784, 0.5573831 ,\n",
       "        0.60052582, 0.60825224, 0.6205283 , 0.57828474, 0.57419499,\n",
       "        0.55812012, 0.58589632, 0.61343265, 0.64439221, 0.5411069 ,\n",
       "        0.56075961, 0.59664566, 0.55723375, 0.58134566, 0.63674885,\n",
       "        0.5897638 , 0.62104608, 0.57495499, 0.58195681, 0.63231831,\n",
       "        0.608044  , 0.64107814, 0.61884212, 0.55685174, 0.57248788,\n",
       "        0.59501119, 0.61457046, 0.60961089, 0.56911735, 0.55245427,\n",
       "        0.63366446, 0.6057002 , 0.60361372, 0.56126366, 0.61468304,\n",
       "        0.6366478 , 0.6365973 , 0.65370724, 0.61765888, 0.63188886,\n",
       "        0.60635379, 0.64181612, 0.62995281, 0.59646659, 0.66021938,\n",
       "        0.61031092, 0.58128814, 0.61146278, 0.63533664, 0.64380111,\n",
       "        0.63179994, 0.64233077, 0.6720547 , 0.59073535, 0.60502654,\n",
       "        0.59865193, 0.62976774, 0.62201078, 0.61760275, 0.58573734,\n",
       "        0.56758739, 0.58339891, 0.60137914, 0.64369246, 0.58905435,\n",
       "        0.64758524, 0.64046716, 0.65086952, 0.61122532, 0.63447694,\n",
       "        0.6281918 , 0.60872235, 0.60665693, 0.59019577, 0.58384642,\n",
       "        0.58676598, 0.56868582, 0.64038478, 0.57082318, 0.59002965,\n",
       "        0.59564435, 0.58482424, 0.56903427, 0.57756949, 0.59377107,\n",
       "        0.61081182, 0.61462311, 0.62231027, 0.55425975, 0.56717834,\n",
       "        0.52447677, 0.59515767, 0.59492079, 0.62318143, 0.56867965,\n",
       "        0.56660367, 0.54098739, 0.59018266, 0.62861814, 0.61969657,\n",
       "        0.59853008, 0.53821795, 0.54187841, 0.60463568, 0.58880733,\n",
       "        0.56456131, 0.58192968, 0.5705692 , 0.57473988, 0.55869122,\n",
       "        0.61625885, 0.5644037 , 0.61097804, 0.53487197, 0.54611433,\n",
       "        0.59239918, 0.6038599 , 0.54565287, 0.55456677, 0.54345982,\n",
       "        0.604828  , 0.61555217, 0.55136712, 0.57770229, 0.55733998,\n",
       "        0.54829916, 0.55102145, 0.57143697, 0.51428363, 0.54799902,\n",
       "        0.5667311 , 0.55248815, 0.56706385, 0.60702027, 0.61991262,\n",
       "        0.56471344, 0.56676367, 0.56508922, 0.59524647, 0.53684119,\n",
       "        0.57034816, 0.54110746, 0.57911151, 0.56141083, 0.56567315,\n",
       "        0.59315766, 0.53418293, 0.56677051, 0.57409741, 0.54980936,\n",
       "        0.55868166, 0.54784605, 0.5714751 , 0.54898903, 0.62241669,\n",
       "        0.57233319, 0.58295608, 0.59879753, 0.58756841, 0.6056777 ,\n",
       "        0.57868724, 0.5765599 , 0.59485376, 0.57910531, 0.61855636,\n",
       "        0.59670401, 0.60200994, 0.62483559, 0.5833382 , 0.59774865,\n",
       "        0.62347782, 0.65457318, 0.63878193, 0.70957129, 0.63987583,\n",
       "        0.64204521, 0.62239082, 0.57089092, 0.61497844, 0.5822997 ,\n",
       "        0.59852887, 0.57632352, 0.61217401, 0.68236525, 0.63122109,\n",
       "        0.63109472, 0.63727081, 0.60375716, 0.64774317, 0.65384211,\n",
       "        0.57231164, 0.62091875, 0.58537714, 0.59311943, 0.58404177,\n",
       "        0.58533426, 0.60879406, 0.59587635, 0.63165402, 0.59826586,\n",
       "        0.60383083, 0.58109774, 0.57712708, 0.64782544, 0.61855539,\n",
       "        0.56993129, 0.55534069, 0.58318971, 0.58678895, 0.56975027,\n",
       "        0.59169297, 0.5827768 , 0.63602481, 0.56496419, 0.63880095]),\n",
       " 'mase': 0.6035391755674488,\n",
       " 'mad': 0.061306288086956366,\n",
       " 'rmsse': 0.7493889931661307,\n",
       " 'std_ae': 1.7416269547659644,\n",
       " 'mrae': 259662.7927680867,\n",
       " 'mae': 0.061306288086956366,\n",
       " 'rmspe': 5235395.157118524,\n",
       " 'smape': 1.6241912724334147,\n",
       " 'mdape': 1.0313479702451955,\n",
       " 'me': 0.0161667129858522,\n",
       " 'maape': 0.7984194165760767}"
      ]
     },
     "execution_count": 13,
     "metadata": {},
     "output_type": "execute_result"
    }
   ],
   "source": [
    "measures"
   ]
  },
  {
   "cell_type": "code",
   "execution_count": 48,
   "metadata": {},
   "outputs": [
    {
     "data": {
      "text/plain": [
       "(0.31125415384615385, -0.28663753846153844)"
      ]
     },
     "execution_count": 48,
     "metadata": {},
     "output_type": "execute_result"
    }
   ],
   "source": [
    "data_true.max(),data_true.min()"
   ]
  },
  {
   "cell_type": "code",
   "execution_count": 50,
   "metadata": {},
   "outputs": [],
   "source": [
    "noise = np.random.uniform(data_true.min(), data_true.max(), (608,400))"
   ]
  },
  {
   "cell_type": "code",
   "execution_count": 52,
   "metadata": {},
   "outputs": [],
   "source": [
    "measures_noise = metrics.evaluate_all(data_true, noise)"
   ]
  },
  {
   "cell_type": "code",
   "execution_count": 55,
   "metadata": {},
   "outputs": [],
   "source": [
    "y1 = []\n",
    "y2 = []\n",
    "a = ['mape', 'gmrae', 'gmae', 'mrae', 'rmspe', 'std_ape', 'mpe', 'mre']\n",
    "for item in metrics.METRICS:\n",
    "    if item not in a:\n",
    "        y1.append(measures[item])\n",
    "        y2.append(measures_noise[item])"
   ]
  },
  {
   "cell_type": "code",
   "execution_count": 57,
   "metadata": {},
   "outputs": [
    {
     "data": {
      "text/plain": [
       "Text(0, 0.5, 'values')"
      ]
     },
     "execution_count": 57,
     "metadata": {},
     "output_type": "execute_result"
    },
    {
     "data": {
      "image/png": "[encoded data removed]",
      "text/plain": [
       "<Figure size 432x288 with 1 Axes>"
      ]
     },
     "metadata": {},
     "output_type": "display_data"
    }
   ],
   "source": [
    "plt.plot(y1,lw=2.5,label=\"gan\",color='blue')\n",
    "plt.plot(y2,lw=2.5,label=\"noise\",color='red')\n",
    "plt.title(\"comparison\",size=20,color='red')\n",
    "plt.xlabel('item',size=20)\n",
    "plt.ylabel('values',size=20)"
   ]
  },
  {
   "cell_type": "code",
   "execution_count": 35,
   "metadata": {},
   "outputs": [],
   "source": [
    "from metrics.visualization_metrics import PCA_Analysis, tSNE_Analysis"
   ]
  },
  {
   "cell_type": "code",
   "execution_count": 36,
   "metadata": {},
   "outputs": [
    {
     "ename": "AxisError",
     "evalue": "axis 1 is out of bounds for array of dimension 1",
     "output_type": "error",
     "traceback": [
      "\u001b[1;31m---------------------------------------------------------------------------\u001b[0m",
      "\u001b[1;31mAxisError\u001b[0m                                 Traceback (most recent call last)",
      "\u001b[1;32m<ipython-input-36-86cef39ac01d>\u001b[0m in \u001b[0;36m<module>\u001b[1;34m()\u001b[0m\n\u001b[1;32m----> 1\u001b[1;33m \u001b[0mPCA_Analysis\u001b[0m\u001b[1;33m(\u001b[0m\u001b[0mdata_true\u001b[0m\u001b[1;33m,\u001b[0m \u001b[0mdata\u001b[0m\u001b[1;33m)\u001b[0m\u001b[1;33m\u001b[0m\u001b[0m\n\u001b[0m",
      "\u001b[1;32mD:\\python-project\\bearing-data-synthetic\\metrics\\visualization_metrics.py\u001b[0m in \u001b[0;36mPCA_Analysis\u001b[1;34m(dataX, dataX_hat)\u001b[0m\n\u001b[0;32m     14\u001b[0m     \u001b[0mmu\u001b[0m \u001b[1;33m=\u001b[0m \u001b[0mnp\u001b[0m\u001b[1;33m.\u001b[0m\u001b[0mmean\u001b[0m\u001b[1;33m(\u001b[0m\u001b[0mdataX\u001b[0m\u001b[1;33m)\u001b[0m\u001b[1;33m\u001b[0m\u001b[0m\n\u001b[0;32m     15\u001b[0m     \u001b[0marrayX\u001b[0m \u001b[1;33m=\u001b[0m \u001b[0mdataX\u001b[0m \u001b[1;33m-\u001b[0m \u001b[0mnp\u001b[0m\u001b[1;33m.\u001b[0m\u001b[0mmean\u001b[0m\u001b[1;33m(\u001b[0m\u001b[0mdataX\u001b[0m\u001b[1;33m,\u001b[0m \u001b[1;36m0\u001b[0m\u001b[1;33m)\u001b[0m\u001b[1;33m\u001b[0m\u001b[0m\n\u001b[1;32m---> 16\u001b[1;33m     \u001b[0marrayX_hat\u001b[0m \u001b[1;33m=\u001b[0m \u001b[0mdataX_hat\u001b[0m \u001b[1;33m-\u001b[0m \u001b[0mnp\u001b[0m\u001b[1;33m.\u001b[0m\u001b[0mmean\u001b[0m\u001b[1;33m(\u001b[0m\u001b[0mdataX_hat\u001b[0m\u001b[1;33m,\u001b[0m \u001b[1;36m0\u001b[0m\u001b[1;33m)\u001b[0m\u001b[1;33m\u001b[0m\u001b[0m\n\u001b[0m\u001b[0;32m     17\u001b[0m \u001b[1;33m\u001b[0m\u001b[0m\n\u001b[0;32m     18\u001b[0m     \u001b[1;31m# Parameters\u001b[0m\u001b[1;33m\u001b[0m\u001b[1;33m\u001b[0m\u001b[0m\n",
      "\u001b[1;32m<__array_function__ internals>\u001b[0m in \u001b[0;36mmean\u001b[1;34m(*args, **kwargs)\u001b[0m\n",
      "\u001b[1;32mD:\\Users\\NINGMEI\\Anaconda3\\lib\\site-packages\\numpy\\core\\fromnumeric.py\u001b[0m in \u001b[0;36mmean\u001b[1;34m(a, axis, dtype, out, keepdims)\u001b[0m\n\u001b[0;32m   3371\u001b[0m \u001b[1;33m\u001b[0m\u001b[0m\n\u001b[0;32m   3372\u001b[0m     return _methods._mean(a, axis=axis, dtype=dtype,\n\u001b[1;32m-> 3373\u001b[1;33m                           out=out, **kwargs)\n\u001b[0m\u001b[0;32m   3374\u001b[0m \u001b[1;33m\u001b[0m\u001b[0m\n\u001b[0;32m   3375\u001b[0m \u001b[1;33m\u001b[0m\u001b[0m\n",
      "\u001b[1;32mD:\\Users\\NINGMEI\\Anaconda3\\lib\\site-packages\\numpy\\core\\_methods.py\u001b[0m in \u001b[0;36m_mean\u001b[1;34m(a, axis, dtype, out, keepdims)\u001b[0m\n\u001b[0;32m    145\u001b[0m \u001b[1;33m\u001b[0m\u001b[0m\n\u001b[0;32m    146\u001b[0m     \u001b[0mis_float16_result\u001b[0m \u001b[1;33m=\u001b[0m \u001b[1;32mFalse\u001b[0m\u001b[1;33m\u001b[0m\u001b[0m\n\u001b[1;32m--> 147\u001b[1;33m     \u001b[0mrcount\u001b[0m \u001b[1;33m=\u001b[0m \u001b[0m_count_reduce_items\u001b[0m\u001b[1;33m(\u001b[0m\u001b[0marr\u001b[0m\u001b[1;33m,\u001b[0m \u001b[0maxis\u001b[0m\u001b[1;33m)\u001b[0m\u001b[1;33m\u001b[0m\u001b[0m\n\u001b[0m\u001b[0;32m    148\u001b[0m     \u001b[1;31m# Make this warning show up first\u001b[0m\u001b[1;33m\u001b[0m\u001b[1;33m\u001b[0m\u001b[0m\n\u001b[0;32m    149\u001b[0m     \u001b[1;32mif\u001b[0m \u001b[0mrcount\u001b[0m \u001b[1;33m==\u001b[0m \u001b[1;36m0\u001b[0m\u001b[1;33m:\u001b[0m\u001b[1;33m\u001b[0m\u001b[0m\n",
      "\u001b[1;32mD:\\Users\\NINGMEI\\Anaconda3\\lib\\site-packages\\numpy\\core\\_methods.py\u001b[0m in \u001b[0;36m_count_reduce_items\u001b[1;34m(arr, axis)\u001b[0m\n\u001b[0;32m     64\u001b[0m     \u001b[0mitems\u001b[0m \u001b[1;33m=\u001b[0m \u001b[1;36m1\u001b[0m\u001b[1;33m\u001b[0m\u001b[0m\n\u001b[0;32m     65\u001b[0m     \u001b[1;32mfor\u001b[0m \u001b[0max\u001b[0m \u001b[1;32min\u001b[0m \u001b[0maxis\u001b[0m\u001b[1;33m:\u001b[0m\u001b[1;33m\u001b[0m\u001b[0m\n\u001b[1;32m---> 66\u001b[1;33m         \u001b[0mitems\u001b[0m \u001b[1;33m*=\u001b[0m \u001b[0marr\u001b[0m\u001b[1;33m.\u001b[0m\u001b[0mshape\u001b[0m\u001b[1;33m[\u001b[0m\u001b[0mmu\u001b[0m\u001b[1;33m.\u001b[0m\u001b[0mnormalize_axis_index\u001b[0m\u001b[1;33m(\u001b[0m\u001b[0max\u001b[0m\u001b[1;33m,\u001b[0m \u001b[0marr\u001b[0m\u001b[1;33m.\u001b[0m\u001b[0mndim\u001b[0m\u001b[1;33m)\u001b[0m\u001b[1;33m]\u001b[0m\u001b[1;33m\u001b[0m\u001b[0m\n\u001b[0m\u001b[0;32m     67\u001b[0m     \u001b[1;32mreturn\u001b[0m \u001b[0mitems\u001b[0m\u001b[1;33m\u001b[0m\u001b[0m\n\u001b[0;32m     68\u001b[0m \u001b[1;33m\u001b[0m\u001b[0m\n",
      "\u001b[1;31mAxisError\u001b[0m: axis 1 is out of bounds for array of dimension 1"
     ]
    }
   ],
   "source": [
    "PCA_Analysis(data_true, data)"
   ]
  },
  {
   "cell_type": "code",
   "execution_count": 23,
   "metadata": {},
   "outputs": [
    {
     "data": {
      "text/plain": [
       "(608, 400)"
      ]
     },
     "execution_count": 23,
     "metadata": {},
     "output_type": "execute_result"
    }
   ],
   "source": [
    "data_true.shape"
   ]
  },
  {
   "cell_type": "code",
   "execution_count": 22,
   "metadata": {},
   "outputs": [
    {
     "data": {
      "text/plain": [
       "(608, 400)"
      ]
     },
     "execution_count": 22,
     "metadata": {},
     "output_type": "execute_result"
    }
   ],
   "source": [
    "data.shape"
   ]
  },
  {
   "cell_type": "code",
   "execution_count": 38,
   "metadata": {},
   "outputs": [
    {
     "data": {
      "text/plain": [
       "(608,)"
      ]
     },
     "execution_count": 38,
     "metadata": {},
     "output_type": "execute_result"
    }
   ],
   "source": [
    "np.mean(data, axis=1).shape"
   ]
  },
  {
   "cell_type": "code",
   "execution_count": null,
   "metadata": {},
   "outputs": [],
   "source": []
  }
 ],
 "metadata": {
  "file_extension": ".py",
  "kernelspec": {
   "display_name": "Python 3",
   "language": "python",
   "name": "python3"
  },
  "language_info": {
   "codemirror_mode": {
    "name": "ipython",
    "version": 3
   },
   "file_extension": ".py",
   "mimetype": "text/x-python",
   "name": "python",
   "nbconvert_exporter": "python",
   "pygments_lexer": "ipython3",
   "version": "3.6.5"
  },
  "mimetype": "text/x-python",
  "name": "python",
  "npconvert_exporter": "python",
  "pygments_lexer": "ipython3",
  "version": 3
 },
 "nbformat": 4,
 "nbformat_minor": 2
}
